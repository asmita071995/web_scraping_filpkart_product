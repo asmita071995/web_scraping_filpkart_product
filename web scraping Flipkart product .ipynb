{
 "cells": [
  {
   "cell_type": "code",
   "execution_count": 145,
   "id": "7b134929",
   "metadata": {},
   "outputs": [],
   "source": [
    "from bs4 import BeautifulSoup\n",
    "import requests\n",
    "import pandas as pd\n",
    "Product_name = []\n",
    "Prices = []\n",
    "Description = []\n",
    "Reviews = []"
   ]
  },
  {
   "cell_type": "code",
   "execution_count": 148,
   "id": "c9e767e6",
   "metadata": {},
   "outputs": [
    {
     "name": "stdout",
     "output_type": "stream",
     "text": [
      "https://www.flipkart.com//search?q=mobile+phone+under+50000&sid=tyy%2C4io&as=on&as-show=on&otracker=AS_QueryStore_OrganicAutoSuggest_2_18_na_na_ps&otracker1=AS_QueryStore_OrganicAutoSuggest_2_18_na_na_ps&as-pos=2&as-type=RECENT&suggestionId=mobile+phone+under+50000%7CMobiles&requestId=9e8b277a-c936-4bd5-860a-e2b0d5d58fc0&as-searchtext=mobile+phone+500002&page=2\n",
      "https://www.flipkart.com//search?q=mobile+phone+under+50000&sid=tyy%2C4io&as=on&as-show=on&otracker=AS_QueryStore_OrganicAutoSuggest_2_18_na_na_ps&otracker1=AS_QueryStore_OrganicAutoSuggest_2_18_na_na_ps&as-pos=2&as-type=RECENT&suggestionId=mobile+phone+under+50000%7CMobiles&requestId=9e8b277a-c936-4bd5-860a-e2b0d5d58fc0&as-searchtext=mobile+phone+500003&page=2\n",
      "https://www.flipkart.com//search?q=mobile+phone+under+50000&sid=tyy%2C4io&as=on&as-show=on&otracker=AS_QueryStore_OrganicAutoSuggest_2_18_na_na_ps&otracker1=AS_QueryStore_OrganicAutoSuggest_2_18_na_na_ps&as-pos=2&as-type=RECENT&suggestionId=mobile+phone+under+50000%7CMobiles&requestId=9e8b277a-c936-4bd5-860a-e2b0d5d58fc0&as-searchtext=mobile+phone+500004&page=2\n",
      "https://www.flipkart.com//search?q=mobile+phone+under+50000&sid=tyy%2C4io&as=on&as-show=on&otracker=AS_QueryStore_OrganicAutoSuggest_2_18_na_na_ps&otracker1=AS_QueryStore_OrganicAutoSuggest_2_18_na_na_ps&as-pos=2&as-type=RECENT&suggestionId=mobile+phone+under+50000%7CMobiles&requestId=9e8b277a-c936-4bd5-860a-e2b0d5d58fc0&as-searchtext=mobile+phone+500005&page=2\n",
      "https://www.flipkart.com//search?q=mobile+phone+under+50000&sid=tyy%2C4io&as=on&as-show=on&otracker=AS_QueryStore_OrganicAutoSuggest_2_18_na_na_ps&otracker1=AS_QueryStore_OrganicAutoSuggest_2_18_na_na_ps&as-pos=2&as-type=RECENT&suggestionId=mobile+phone+under+50000%7CMobiles&requestId=9e8b277a-c936-4bd5-860a-e2b0d5d58fc0&as-searchtext=mobile+phone+500006&page=2\n",
      "https://www.flipkart.com//search?q=mobile+phone+under+50000&sid=tyy%2C4io&as=on&as-show=on&otracker=AS_QueryStore_OrganicAutoSuggest_2_18_na_na_ps&otracker1=AS_QueryStore_OrganicAutoSuggest_2_18_na_na_ps&as-pos=2&as-type=RECENT&suggestionId=mobile+phone+under+50000%7CMobiles&requestId=9e8b277a-c936-4bd5-860a-e2b0d5d58fc0&as-searchtext=mobile+phone+500007&page=2\n",
      "https://www.flipkart.com//search?q=mobile+phone+under+50000&sid=tyy%2C4io&as=on&as-show=on&otracker=AS_QueryStore_OrganicAutoSuggest_2_18_na_na_ps&otracker1=AS_QueryStore_OrganicAutoSuggest_2_18_na_na_ps&as-pos=2&as-type=RECENT&suggestionId=mobile+phone+under+50000%7CMobiles&requestId=9e8b277a-c936-4bd5-860a-e2b0d5d58fc0&as-searchtext=mobile+phone+500008&page=2\n",
      "https://www.flipkart.com//search?q=mobile+phone+under+50000&sid=tyy%2C4io&as=on&as-show=on&otracker=AS_QueryStore_OrganicAutoSuggest_2_18_na_na_ps&otracker1=AS_QueryStore_OrganicAutoSuggest_2_18_na_na_ps&as-pos=2&as-type=RECENT&suggestionId=mobile+phone+under+50000%7CMobiles&requestId=9e8b277a-c936-4bd5-860a-e2b0d5d58fc0&as-searchtext=mobile+phone+500009&page=2\n"
     ]
    }
   ],
   "source": [
    "\n",
    "for i in range(2, 10):\n",
    "\n",
    "    URL = 'https://www.flipkart.com/search?q=mobile+phone+under+50000&sid=tyy%2C4io&as=on&as-show=on&otracker=AS_QueryStore_OrganicAutoSuggest_2_18_na_na_ps&otracker1=AS_QueryStore_OrganicAutoSuggest_2_18_na_na_ps&as-pos=2&as-type=RECENT&suggestionId=mobile+phone+under+50000%7CMobiles&requestId=9e8b277a-c936-4bd5-860a-e2b0d5d58fc0&as-searchtext=mobile%20phone%2050000'+str(i)\n",
    "    req =requests.get(URL)\n",
    "    soup = BeautifulSoup(req.text,'lxml')\n",
    "    box = soup.find('div',class_ = '_1YokD2 _3Mn1Gg')\n",
    "    np = soup.find('a',class_ = '_1LKTO3').get('href')\n",
    "    cnp = \"https://www.flipkart.com/\"+np\n",
    "    print(cnp)"
   ]
  },
  {
   "cell_type": "code",
   "execution_count": 114,
   "id": "fb712390",
   "metadata": {},
   "outputs": [
    {
     "name": "stdout",
     "output_type": "stream",
     "text": [
      "96\n"
     ]
    }
   ],
   "source": [
    "names = box.find_all('div',class_ = '_4rR01T')\n",
    "\n",
    "\n",
    "for i in names:\n",
    "    name =i.text\n",
    "    Product_name.append(name)\n",
    "\n",
    "print(len(Product_name))"
   ]
  },
  {
   "cell_type": "code",
   "execution_count": 112,
   "id": "dc21e7e3",
   "metadata": {},
   "outputs": [
    {
     "name": "stdout",
     "output_type": "stream",
     "text": [
      "96\n"
     ]
    }
   ],
   "source": [
    "prices = box.find_all(\"div\",class_ = \"_30jeq3 _1_WHN1\")\n",
    "\n",
    "for i in prices:\n",
    "    name = i.text\n",
    "    Prices.append(name)\n",
    "print(len(Prices))"
   ]
  },
  {
   "cell_type": "code",
   "execution_count": 104,
   "id": "1a347378",
   "metadata": {},
   "outputs": [
    {
     "name": "stdout",
     "output_type": "stream",
     "text": [
      "96\n"
     ]
    }
   ],
   "source": [
    "desc = box.find_all('ul',class_= '_1xgFaf')\n",
    "\n",
    "for i in desc:\n",
    "    name= i.text\n",
    "    Description.append(name)\n",
    "print(len(Description))\n",
    "    "
   ]
  },
  {
   "cell_type": "code",
   "execution_count": 109,
   "id": "4041af59",
   "metadata": {},
   "outputs": [
    {
     "name": "stdout",
     "output_type": "stream",
     "text": [
      "96\n"
     ]
    }
   ],
   "source": [
    "reviews = box.find_all('div',class_ =\"_3LWZlK\")\n",
    "\n",
    "for i in reviews:\n",
    "    name = i.text\n",
    "    Reviews.append(name)\n",
    "print(len(Reviews))\n",
    "    "
   ]
  },
  {
   "cell_type": "code",
   "execution_count": 115,
   "id": "46664e8e",
   "metadata": {},
   "outputs": [
    {
     "name": "stdout",
     "output_type": "stream",
     "text": [
      "96\n",
      "96\n",
      "96\n",
      "96\n"
     ]
    }
   ],
   "source": [
    "print(len(Description))\n",
    "print(len(Product_name))\n",
    "print(len(Reviews))\n",
    "print(len(Prices))"
   ]
  },
  {
   "cell_type": "code",
   "execution_count": 119,
   "id": "c8d23b92",
   "metadata": {},
   "outputs": [],
   "source": [
    "df = pd.DataFrame({\"Product_name\":Product_name,\"Prices\":Prices,\"Description\":Description,\"Reviews\":Reviews})"
   ]
  },
  {
   "cell_type": "code",
   "execution_count": 120,
   "id": "dcb84a08",
   "metadata": {},
   "outputs": [
    {
     "name": "stdout",
     "output_type": "stream",
     "text": [
      "                                 Product_name   Prices  \\\n",
      "0            Apple iPhone 11 (Yellow, 128 GB)  ₹48,900   \n",
      "1           Google Pixel 7 (Obsidian, 128 GB)  ₹46,999   \n",
      "2         Google Pixel 7 (Lemongrass, 128 GB)  ₹46,999   \n",
      "3               Google Pixel 7 (Snow, 128 GB)  ₹46,999   \n",
      "4   SAMSUNG Galaxy Z Flip3 5G (Cream, 128 GB)  ₹45,999   \n",
      "..                                        ...      ...   \n",
      "91          Apple iPhone 8 Plus (Gold, 64 GB)  ₹49,900   \n",
      "92            vivo X80 (Cosmic Black, 128 GB)  ₹40,990   \n",
      "93          vivo X60 (Midnight Black, 256 GB)  ₹46,990   \n",
      "94       realme X50 Pro 5G (Rust Red, 256 GB)  ₹47,999   \n",
      "95        Apple iPhone 8 Plus (Silver, 64 GB)  ₹49,900   \n",
      "\n",
      "                                          Description Reviews  \n",
      "0   128 GB ROM15.49 cm (6.1 inch) Liquid Retina HD...     4.6  \n",
      "1   8 GB RAM | 128 GB ROM16.0 cm (6.3 inch) Full H...     4.3  \n",
      "2   8 GB RAM | 128 GB ROM16.0 cm (6.3 inch) Full H...     4.3  \n",
      "3   8 GB RAM | 128 GB ROM16.0 cm (6.3 inch) Full H...     4.3  \n",
      "4   8 GB RAM | 128 GB ROM17.02 cm (6.7 inch) Full ...     4.3  \n",
      "..                                                ...     ...  \n",
      "91  64 GB ROM13.97 cm (5.5 inch) Retina HD Display...     4.6  \n",
      "92  8 GB RAM | 128 GB ROM17.22 cm (6.78 inch) Full...     4.5  \n",
      "93  12 GB RAM | 256 GB ROM16.66 cm (6.56 inch) Ful...     4.4  \n",
      "94  12 GB RAM | 256 GB ROM16.36 cm (6.44 inch) Ful...     4.3  \n",
      "95  64 GB ROM13.97 cm (5.5 inch) Retina HD Display...     4.6  \n",
      "\n",
      "[96 rows x 4 columns]\n"
     ]
    }
   ],
   "source": [
    "print(df)"
   ]
  },
  {
   "cell_type": "code",
   "execution_count": null,
   "id": "a7f95572",
   "metadata": {},
   "outputs": [],
   "source": [
    " "
   ]
  }
 ],
 "metadata": {
  "kernelspec": {
   "display_name": "Python 3",
   "language": "python",
   "name": "python3"
  },
  "language_info": {
   "codemirror_mode": {
    "name": "ipython",
    "version": 3
   },
   "file_extension": ".py",
   "mimetype": "text/x-python",
   "name": "python",
   "nbconvert_exporter": "python",
   "pygments_lexer": "ipython3",
   "version": "3.8.8"
  }
 },
 "nbformat": 4,
 "nbformat_minor": 5
}
